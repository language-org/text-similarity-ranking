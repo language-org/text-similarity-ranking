{
 "metadata": {
  "language_info": {
   "codemirror_mode": {
    "name": "ipython",
    "version": 3
   },
   "file_extension": ".py",
   "mimetype": "text/x-python",
   "name": "python",
   "nbconvert_exporter": "python",
   "pygments_lexer": "ipython3",
   "version": "3.6.10-final"
  },
  "orig_nbformat": 2,
  "kernelspec": {
   "name": "python_defaultSpec_1599404992090",
   "display_name": "Python 3.6.10 64-bit ('nlp_text_similarity': conda)"
  }
 },
 "nbformat": 4,
 "nbformat_minor": 2,
 "cells": [
  {
   "cell_type": "markdown",
   "metadata": {},
   "source": [
    "# Rank Text Similarity\n",
    "### Techniques: tf-idf + svd\n",
    "### Technos: pyspark"
   ]
  },
  {
   "cell_type": "markdown",
   "metadata": {},
   "source": [
    "### Prerequisites\n",
    "* Spark 2.4.4 is installed"
   ]
  },
  {
   "cell_type": "markdown",
   "metadata": {},
   "source": [
    "### Setup environment variables\n",
    "\n",
    "* workload: 1 hour to config (first time)"
   ]
  },
  {
   "cell_type": "code",
   "execution_count": 5,
   "metadata": {
    "tags": []
   },
   "outputs": [],
   "source": [
    "# setup SPARK environment variables\n",
    "import os\n",
    "import sys  \n",
    "os.environ['SPARK_HOME'] = '/usr/local/Cellar/apache-spark/2.4.4/libexec'\n",
    "os.environ['PYSPARK_PYTHON'] = '/Applications/anaconda3/envs/nlp_text_similarity/bin/python'  \n",
    "os.environ['PYSPARK_DRIVER_PYTHON'] = '/Applications/anaconda3/envs/nlp_text_similarity/bin/python'  \n",
    "os.environ['JAVA_HOME'] = '/Library/Java/JavaVirtualMachines/adoptopenjdk-8.jdk/Contents/Home'\n",
    "os.environ['PYTHONPATH'] = os.environ['SPARK_HOME'] + '/python/lib/'\n",
    "sys.path.insert(0, os.environ['SPARK_HOME'] + '/python/lib/py4j-0.10.7-src.zip')\n",
    "sys.path.insert(0, os.environ['SPARK_HOME'] + '/python/lib/pyspark.zip')"
   ]
  },
  {
   "cell_type": "code",
   "execution_count": 6,
   "metadata": {},
   "outputs": [],
   "source": [
    "# list dependencies\n",
    "from pyspark.sql import SparkSession\n",
    "from pyspark.ml import Pipeline\n",
    "from pyspark.ml.feature import HashingTF, IDF, Tokenizer\n",
    "import pandas as pd"
   ]
  },
  {
   "cell_type": "code",
   "execution_count": 12,
   "metadata": {},
   "outputs": [],
   "source": [
    "# dataset path\n",
    "os.chdir('..')\n",
    "project_path = os.getcwd()\n",
    "dataset_path = 'data/02_preprocessed/train.csv'  "
   ]
  },
  {
   "cell_type": "code",
   "execution_count": 13,
   "metadata": {},
   "outputs": [],
   "source": [
    "# create sparkSession\n",
    "sparkSession = SparkSession.builder.appName(\"my_app\").master(\"local[*]\").getOrCreate() "
   ]
  },
  {
   "cell_type": "code",
   "execution_count": 14,
   "metadata": {
    "tags": []
   },
   "outputs": [
    {
     "output_type": "execute_result",
     "data": {
      "text/plain": "<pyspark.sql.session.SparkSession at 0x11f4e25c0>",
      "text/html": "\n            <div>\n                <p><b>SparkSession - in-memory</b></p>\n                \n        <div>\n            <p><b>SparkContext</b></p>\n\n            <p><a href=\"http://steeve.home:4040\">Spark UI</a></p>\n\n            <dl>\n              <dt>Version</dt>\n                <dd><code>v2.4.4</code></dd>\n              <dt>Master</dt>\n                <dd><code>local[*]</code></dd>\n              <dt>AppName</dt>\n                <dd><code>my_app</code></dd>\n            </dl>\n        </div>\n        \n            </div>\n        "
     },
     "metadata": {},
     "execution_count": 14
    }
   ],
   "source": [
    "# print spark session config\n",
    "sparkSession"
   ]
  },
  {
   "cell_type": "code",
   "execution_count": 17,
   "metadata": {},
   "outputs": [
    {
     "output_type": "execute_result",
     "data": {
      "text/plain": "   sentiment                                             review\n0          0  Working with one of the best Shakespeare sourc...\n1          0  Well...tremors I, the original started off in ...\n2          0  Ouch! This one was a bit painful to sit throug...\n3          0  I've seen some crappy movies in my life, but t...\n4          0  \"Carriers\" follows the exploits of two guys an...",
      "text/html": "<div>\n<style scoped>\n    .dataframe tbody tr th:only-of-type {\n        vertical-align: middle;\n    }\n\n    .dataframe tbody tr th {\n        vertical-align: top;\n    }\n\n    .dataframe thead th {\n        text-align: right;\n    }\n</style>\n<table border=\"1\" class=\"dataframe\">\n  <thead>\n    <tr style=\"text-align: right;\">\n      <th></th>\n      <th>sentiment</th>\n      <th>review</th>\n    </tr>\n  </thead>\n  <tbody>\n    <tr>\n      <th>0</th>\n      <td>0</td>\n      <td>Working with one of the best Shakespeare sourc...</td>\n    </tr>\n    <tr>\n      <th>1</th>\n      <td>0</td>\n      <td>Well...tremors I, the original started off in ...</td>\n    </tr>\n    <tr>\n      <th>2</th>\n      <td>0</td>\n      <td>Ouch! This one was a bit painful to sit throug...</td>\n    </tr>\n    <tr>\n      <th>3</th>\n      <td>0</td>\n      <td>I've seen some crappy movies in my life, but t...</td>\n    </tr>\n    <tr>\n      <th>4</th>\n      <td>0</td>\n      <td>\"Carriers\" follows the exploits of two guys an...</td>\n    </tr>\n  </tbody>\n</table>\n</div>"
     },
     "metadata": {},
     "execution_count": 17
    }
   ],
   "source": [
    "# Load imdb dataset as pandas dataframe\n",
    "dataset_df = pd.read_csv(dataset_path)\n",
    "dataset_df.head()\n"
   ]
  },
  {
   "cell_type": "code",
   "execution_count": 19,
   "metadata": {
    "tags": []
   },
   "outputs": [
    {
     "output_type": "stream",
     "name": "stdout",
     "text": "+---------+--------------------+\n|sentiment|              review|\n+---------+--------------------+\n|        0|Working with one ...|\n|        0|Well...tremors I,...|\n|        0|Ouch! This one wa...|\n|        0|I've seen some cr...|\n|        0|\"Carriers\" follow...|\n|        0|I had been lookin...|\n|        0|Effect(s) without...|\n|        0|This picture star...|\n|        0|I chose to see th...|\n|        0|This film has to ...|\n|        0|I felt brain dead...|\n|        0|A young scientist...|\n|        0|Inept, boring, an...|\n|        0|From the first ti...|\n|        0|I find it hard to...|\n|        0|I actually saw Ch...|\n|        0|I went to school ...|\n|        0|I haven't seen th...|\n|        0|I haven't seen an...|\n|        0|One would think t...|\n+---------+--------------------+\nonly showing top 20 rows\n\n"
    }
   ],
   "source": [
    "# create spark dataframe\n",
    "dataset_spark = sparkSession.createDataFrame(dataset_df)\n",
    "dataset_spark.show()"
   ]
  }
 ]
}